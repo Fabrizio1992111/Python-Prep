{
 "cells": [
  {
   "attachments": {},
   "cell_type": "markdown",
   "metadata": {},
   "source": [
    "## Manejo de errores"
   ]
  },
  {
   "attachments": {},
   "cell_type": "markdown",
   "metadata": {},
   "source": [
    "1) Con la clase creada en el módulo 7, tener en cuenta diferentes casos en que el código pudiera arrojar error. Por ejemplo, en la creación del objeto recibimos una lista de números enteros pero ¿qué pasa si se envía otro tipo de dato?"
   ]
  },
  {
   "cell_type": "code",
   "execution_count": 1,
   "metadata": {},
   "outputs": [],
   "source": [
    "import sys\n",
    "import os\n",
    "\n",
    "file_path = r'C:\\Users\\Fabrizio\\Desktop\\Python-Prep\\M08_clasesyOOP\\MultipleFunciones.py'\n",
    "\n",
    "# Check if the file exists\n",
    "if os.path.exists(file_path):\n",
    "    # Add the directory containing the file to sys.path\n",
    "    sys.path.append(os.path.dirname(file_path))\n",
    "\n",
    "    # Import from the file\n",
    "    from MultipleFunciones import *\n",
    "else:\n",
    "    print(f\"El archivo {file_path} no existe.\")\n",
    "\n",
    "#l = [1.2,2.5,-3.0]\n",
    "#h=Funciones('Hola')\n",
    "\n",
    "#a = h.es_primo()\n",
    "\n"
   ]
  },
  {
   "attachments": {},
   "cell_type": "markdown",
   "metadata": {},
   "source": [
    "2) En la función que hace la conversión de grados, validar que los parámetros enviados sean los esperados, de no serlo, informar cuáles son los valores esperados."
   ]
  },
  {
   "cell_type": "code",
   "execution_count": null,
   "metadata": {},
   "outputs": [],
   "source": [
    "import importlib\n",
    "import MultipleFunciones as h\n",
    "\n",
    "lis=[1,2]\n",
    "a = h.Funciones(lis)\n",
    "b = a.conversion(1,2)\n",
    "#h = Funciones([1,2,3])\n",
    "#a = h.conversion(1,2)"
   ]
  },
  {
   "attachments": {},
   "cell_type": "markdown",
   "metadata": {},
   "source": [
    "3) Importar el modulo \"unittest\" y crear los siguientes casos de pruebas sobre la clase utilizada en el punto 2<br>\n",
    "Creacion del objeto incorrecta<br>\n",
    "Creacion correcta del objeto<br>\n",
    "Metodo valor_modal()<br>\n",
    "\n",
    "Se puede usar \"raise ValueError()\" en la creación de la clase para verificar el error. Investigar sobre esta funcionalidad."
   ]
  },
  {
   "cell_type": "code",
   "execution_count": null,
   "metadata": {},
   "outputs": [],
   "source": [
    "import unittest\n",
    "import MultipleFunciones as h\n",
    "\n",
    "class Prueba(unittest.TestCase):\n",
    "    def Objeto_incorreta(self):\n",
    "      valor = 'Str'\n",
    "      self.assertRaises(ValueError,h.Funciones,valor)  \n",
    "\n",
    "\n",
    "    def Objeto_correcta(self):\n",
    "       valor = [1,4,3,2]\n",
    "       a = h.Funciones(valor)\n",
    "       self.assertEqual(a.lista,valor)\n",
    "\n",
    "    def valor_moda(self):\n",
    "        lis = [1, 2, 1, 3]\n",
    "        h1 = h.Funciones(lis)\n",
    "        moda, veces = h1.__numero_repetido(lis)\n",
    "        moda = [moda]\n",
    "        moda.append(veces)\n",
    "        resultado = [1, 2]\n",
    "        self.assertEqual(moda, resultado) \n",
    "                 "
   ]
  },
  {
   "cell_type": "code",
   "execution_count": null,
   "metadata": {},
   "outputs": [],
   "source": [
    "unittest.main(argv=[''],verbosity=2,exit=False)"
   ]
  },
  {
   "attachments": {},
   "cell_type": "markdown",
   "metadata": {},
   "source": [
    "4) Probar una creación incorrecta y visualizar la salida del \"raise\""
   ]
  },
  {
   "cell_type": "code",
   "execution_count": null,
   "metadata": {},
   "outputs": [],
   "source": [
    "\n",
    "import MultipleFunciones as h\n",
    "c = h.Funciones(\"h\")"
   ]
  },
  {
   "attachments": {},
   "cell_type": "markdown",
   "metadata": {},
   "source": [
    "6) Agregar casos de pruebas para el método verifica_primos() realizando el cambio en la clase, para que devuelva una lista de True o False en función de que el elemento en la posisicón sea o no primo"
   ]
  },
  {
   "cell_type": "code",
   "execution_count": null,
   "metadata": {},
   "outputs": [],
   "source": [
    "import unittest\n",
    "import MultipleFunciones as h"
   ]
  },
  {
   "cell_type": "code",
   "execution_count": null,
   "metadata": {},
   "outputs": [],
   "source": [
    "class Prueba(unittest.TestCase):\n",
    "    def test_prueba_definir_primo(self):\n",
    "        lis = [2,3,8,10,13]\n",
    "        v = h.Funciones(lis)\n",
    "        vv = v.es_primo()\n",
    "        primos_esperado = [True, True, False, False, True]\n",
    "        self.assertEqual(vv, primos_esperado)\n",
    "\n",
    "\n"
   ]
  },
  {
   "cell_type": "code",
   "execution_count": null,
   "metadata": {},
   "outputs": [],
   "source": [
    "unittest.main(argv=[''], verbosity=2, exit=False)\n",
    "test_prueba_definir_primo(__main__.Prueba)"
   ]
  },
  {
   "attachments": {},
   "cell_type": "markdown",
   "metadata": {},
   "source": [
    "7) Agregar casos de pruebas para el método conversion_grados()"
   ]
  },
  {
   "cell_type": "code",
   "execution_count": null,
   "metadata": {},
   "outputs": [],
   "source": [
    "import unittest\n",
    "import MultipleFunciones as h\n",
    "class Prueba_Conversion_de_grados(unittest.TestCase):\n",
    "    def test_conversion(self):\n",
    "        lis = [2,3,8,10,13]\n",
    "        g = h.Funciones(lis)\n",
    "        g2 = g.conversion(\"C\",\"F\")\n",
    "        grados_esperado = [35.6, 37.4, 46.4, 50.0, 55.4]\n",
    "        self.assertEqual(g2, grados_esperado)\n"
   ]
  },
  {
   "cell_type": "code",
   "execution_count": null,
   "metadata": {},
   "outputs": [],
   "source": [
    "unittest.main(argv=[''], verbosity=2, exit=False)\n",
    "test_conversion(__main__.Prueba_Conversion_de_grados)"
   ]
  },
  {
   "attachments": {},
   "cell_type": "markdown",
   "metadata": {},
   "source": [
    "8) Agregar casos de pruebas para el método factorial()"
   ]
  },
  {
   "cell_type": "code",
   "execution_count": 2,
   "metadata": {},
   "outputs": [],
   "source": [
    "import unittest\n",
    "from importlib import reload    \n",
    "\n",
    "import MultipleFunciones as h\n",
    "\n",
    "\n",
    "class Prueba_factorial(unittest.TestCase):\n",
    "    def test_prueba_factorial(self):\n",
    "        lis = [2,3,8,10,13]\n",
    "        b2 = h.Funciones(lis)\n",
    "        resultado = b2.factorial()\n",
    "        factorial_esperado = [2, 6, 40320, 3628800, 6227020800]\n",
    "        self.assertEqual(resultado, factorial_esperado)"
   ]
  },
  {
   "cell_type": "code",
   "execution_count": 3,
   "metadata": {},
   "outputs": [
    {
     "name": "stderr",
     "output_type": "stream",
     "text": [
      "test_prueba_factorial (__main__.Prueba_factorial) ... "
     ]
    },
    {
     "name": "stdout",
     "output_type": "stream",
     "text": [
      "el factorial de 2 es 2\n",
      "el factorial de 3 es 6\n",
      "el factorial de 8 es 40320\n",
      "el factorial de 10 es 3628800\n",
      "el factorial de 13 es 6227020800\n"
     ]
    },
    {
     "name": "stderr",
     "output_type": "stream",
     "text": [
      "FAIL\n",
      "\n",
      "======================================================================\n",
      "FAIL: test_prueba_factorial (__main__.Prueba_factorial)\n",
      "----------------------------------------------------------------------\n",
      "Traceback (most recent call last):\n",
      "  File \"C:\\Users\\Fabrizio\\AppData\\Local\\Temp\\ipykernel_1144\\2773435557.py\", line 13, in test_prueba_factorial\n",
      "    self.assertEqual(resultado, factorial_esperado)\n",
      "AssertionError: None != [2, 6, 40320, 3628800, 6227020800]\n",
      "\n",
      "----------------------------------------------------------------------\n",
      "Ran 1 test in 0.002s\n",
      "\n",
      "FAILED (failures=1)\n"
     ]
    },
    {
     "ename": "NameError",
     "evalue": "name 'test_prueba_factorial' is not defined",
     "output_type": "error",
     "traceback": [
      "\u001b[1;31m---------------------------------------------------------------------------\u001b[0m",
      "\u001b[1;31mNameError\u001b[0m                                 Traceback (most recent call last)",
      "\u001b[1;32m~\\AppData\\Local\\Temp\\ipykernel_1144\\711815701.py\u001b[0m in \u001b[0;36m<module>\u001b[1;34m\u001b[0m\n\u001b[0;32m      1\u001b[0m \u001b[0munittest\u001b[0m\u001b[1;33m.\u001b[0m\u001b[0mmain\u001b[0m\u001b[1;33m(\u001b[0m\u001b[0margv\u001b[0m\u001b[1;33m=\u001b[0m\u001b[1;33m[\u001b[0m\u001b[1;34m''\u001b[0m\u001b[1;33m]\u001b[0m\u001b[1;33m,\u001b[0m \u001b[0mverbosity\u001b[0m\u001b[1;33m=\u001b[0m\u001b[1;36m2\u001b[0m\u001b[1;33m,\u001b[0m \u001b[0mexit\u001b[0m\u001b[1;33m=\u001b[0m\u001b[1;32mFalse\u001b[0m\u001b[1;33m)\u001b[0m\u001b[1;33m\u001b[0m\u001b[1;33m\u001b[0m\u001b[0m\n\u001b[1;32m----> 2\u001b[1;33m \u001b[0mtest_prueba_factorial\u001b[0m\u001b[1;33m(\u001b[0m\u001b[0m__main__\u001b[0m\u001b[1;33m.\u001b[0m\u001b[0mPrueba_factorial\u001b[0m\u001b[1;33m)\u001b[0m\u001b[1;33m\u001b[0m\u001b[1;33m\u001b[0m\u001b[0m\n\u001b[0m",
      "\u001b[1;31mNameError\u001b[0m: name 'test_prueba_factorial' is not defined"
     ]
    }
   ],
   "source": [
    "unittest.main(argv=[''], verbosity=2, exit=False)\n",
    "test_prueba_factorial(__main__.Prueba_factorial)"
   ]
  }
 ],
 "metadata": {
  "interpreter": {
   "hash": "c85384e4cb51c8b72350f3a8712cc8351fdc3955e32a27f9b60c6242ab125f01"
  },
  "kernelspec": {
   "display_name": "Python 3 (ipykernel)",
   "language": "python",
   "name": "python3"
  },
  "language_info": {
   "codemirror_mode": {
    "name": "ipython",
    "version": 3
   },
   "file_extension": ".py",
   "mimetype": "text/x-python",
   "name": "python",
   "nbconvert_exporter": "python",
   "pygments_lexer": "ipython3",
   "version": "3.7.5"
  }
 },
 "nbformat": 4,
 "nbformat_minor": 4
}
