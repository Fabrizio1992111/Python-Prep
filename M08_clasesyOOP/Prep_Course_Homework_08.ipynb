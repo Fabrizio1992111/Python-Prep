{
 "cells": [
  {
   "attachments": {},
   "cell_type": "markdown",
   "metadata": {},
   "source": [
    "## Clases y Programación Orientada a Objetos"
   ]
  },
  {
   "attachments": {},
   "cell_type": "markdown",
   "metadata": {},
   "source": [
    "1) Crear la clase vehículo que contenga los atributos:<br>\n",
    "Color<br>\n",
    "Si es moto, auto, camioneta ó camión<br>\n",
    "Cilindrada del motor"
   ]
  },
  {
   "cell_type": "code",
   "execution_count": 2,
   "metadata": {},
   "outputs": [],
   "source": [
    "class Vehiculo:\n",
    "    def __init__(self,Color,Tipo,Cilindrada):\n",
    "        self.Color=Color\n",
    "        self.Tipo=Tipo\n",
    "        self.Cilindrada=Cilindrada\n",
    "        pass"
   ]
  },
  {
   "attachments": {},
   "cell_type": "markdown",
   "metadata": {},
   "source": [
    "2) A la clase Vehiculo creada en el punto 1, agregar los siguientes métodos:<br>\n",
    "Acelerar<br>\n",
    "Frenar<br>\n",
    "Doblar<br>"
   ]
  },
  {
   "cell_type": "code",
   "execution_count": 20,
   "metadata": {},
   "outputs": [],
   "source": [
    "class Vehiculo:\n",
    "    def __init__(self,Color,Tipo,Cilindrada):\n",
    "        self.Color=Color\n",
    "        self.Tipo=Tipo\n",
    "        self.Cilindrada=Cilindrada\n",
    "        self.Velocidad = 0\n",
    "        self.girar = 0\n",
    "        print('El vehiculo es de color',self.Color,'y se trata de un/a',self.Tipo,'de cilindrada',self.Cilindrada)\n",
    "\n",
    "    def Acelerar(self,vel):\n",
    "        self.Velocidad += vel\n",
    "        print('Acelerando',self.Velocidad)\n",
    "    def Frenar(self,vel):\n",
    "        self.Velocidad -= vel\n",
    "        print('Frenando',self.Velocidad)\n",
    "    def Doblar(self,grados):\n",
    "        self.girar += grados\n",
    "        print('Doblar',self.Velocidad,'grados')\n"
   ]
  },
  {
   "attachments": {},
   "cell_type": "markdown",
   "metadata": {},
   "source": [
    "3) Instanciar 3 objetos de la clase vehículo y ejecutar sus métodos, probar luego el resultado"
   ]
  },
  {
   "cell_type": "code",
   "execution_count": 24,
   "metadata": {},
   "outputs": [
    {
     "name": "stdout",
     "output_type": "stream",
     "text": [
      "El vehiculo es de color Rojo y se trata de un/a Camioneta de cilindrada 2.0\n",
      "Acelerando 20\n",
      "\n",
      "El vehiculo es de color Azul y se trata de un/a Camion de cilindrada 4.0\n",
      "Frenando -20\n",
      "\n",
      "El vehiculo es de color Negro y se trata de un/a Auto de cilindrada 1.6\n",
      "Doblar 0 grados\n"
     ]
    }
   ],
   "source": [
    "Vehiculo1=Vehiculo('Rojo','Camioneta','2.0')\n",
    "Vehiculo1.Acelerar(20)\n",
    "print()\n",
    "Vehiculo2=Vehiculo('Azul','Camion','4.0')\n",
    "Vehiculo2.Frenar(20)\n",
    "print()\n",
    "Vehiculo3=Vehiculo('Negro','Auto','1.6')\n",
    "Vehiculo3.Doblar(10)\n"
   ]
  },
  {
   "attachments": {},
   "cell_type": "markdown",
   "metadata": {},
   "source": [
    "4) Agregar a la clase Vehiculo, un método que muestre su estado, es decir, a que velocidad se encuentra y su dirección. Y otro método que muestre color, tipo y cilindrada"
   ]
  },
  {
   "cell_type": "code",
   "execution_count": 30,
   "metadata": {},
   "outputs": [
    {
     "name": "stdout",
     "output_type": "stream",
     "text": [
      "la velocidad es: 0\n",
      "las caracteristicas del vehiculo son Blanco Moto 250cc\n"
     ]
    }
   ],
   "source": [
    "class Vehiculo:\n",
    "    def __init__(self,Color,Tipo,Cilindrada):\n",
    "        self.Color=Color\n",
    "        self.Tipo=Tipo\n",
    "        self.Cilindrada=Cilindrada\n",
    "        self.Velocidad = 0\n",
    "        self.girar = 0\n",
    "        \n",
    "\n",
    "    def Acelerar(self,vel):\n",
    "        self.Velocidad += vel\n",
    "       \n",
    "    def Frenar(self,vel):\n",
    "        self.Velocidad -= vel\n",
    "   \n",
    "    def Doblar(self,grados):\n",
    "        self.girar += grados\n",
    "        \n",
    "    def Movimiento(self):\n",
    "        print('la velocidad es:', self.Velocidad)\n",
    "    \n",
    "    def Caracteristicas(self):\n",
    "        print('las caracteristicas del vehiculo son',self.Color,self.Tipo,self.Cilindrada)\n",
    "\n",
    "\n",
    "\n",
    "auto1=Vehiculo('Blanco','Moto','250cc')\n",
    "auto1.Movimiento()\n",
    "auto1.Caracteristicas()"
   ]
  },
  {
   "attachments": {},
   "cell_type": "markdown",
   "metadata": {},
   "source": [
    "5) Crear una clase que permita utilizar las funciones creadas en la práctica del módulo 7<br>\n",
    "Verificar Primo<br>\n",
    "Valor modal<br>\n",
    "Conversión grados<br>\n",
    "Factorial<br>"
   ]
  },
  {
   "cell_type": "code",
   "execution_count": 53,
   "metadata": {},
   "outputs": [],
   "source": [
    "class Funciones:\n",
    "    def __init__(self) -> None:\n",
    "        pass\n",
    "\n",
    "\n",
    "    def es_primo(self,numero):\n",
    "        \n",
    "        if (numero < 1):\n",
    "            return False\n",
    "        for i in range(2,int(numero**0.5)+1):\n",
    "            if numero % i == 0:\n",
    "                return False\n",
    "        return True\n",
    "    \n",
    "    def numero_repetido(self,lista):\n",
    "        \n",
    "        numero_de_repetiones = 0\n",
    "        i= 0\n",
    "        lista_de_repetidos = []\n",
    "        lista_de_no_repetidos = []\n",
    "        contador_local=[]\n",
    "        for componente in lista:\n",
    "            if componente not in lista_de_no_repetidos:\n",
    "                lista_de_no_repetidos.append(componente)\n",
    "            else:\n",
    "                lista_de_repetidos.append(componente)\n",
    "        for componente in lista_de_repetidos:\n",
    "            contador_local.append(lista_de_repetidos.count(componente))\n",
    "\n",
    "        contador = max(contador_local)+1\n",
    "        i = contador_local.index(max(contador_local))\n",
    "        mas_repetido = lista_de_repetidos[i]\n",
    "        print(\"el valor mas repetido es\",mas_repetido)\n",
    "        print(\"se repite\",contador,'veces')\n",
    "        return mas_repetido,contador\n",
    "    \n",
    "    def conversion(self,valor,origen,destino):\n",
    "\n",
    "        if origen == \"C\" and destino == \"C\":\n",
    "            resul = valor\n",
    "            return resul\n",
    "        if origen == \"C\" and destino == \"F\":\n",
    "            resul = valor * (9/5) + 32\n",
    "            return resul\n",
    "        if origen == \"C\" and destino == \"K\":\n",
    "            resul = valor + 273.15\n",
    "            return resul\n",
    "        if origen == \"F\" and destino == \"F\":\n",
    "            resul = valor\n",
    "            return resul\n",
    "        if origen == \"F\" and destino == \"C\":\n",
    "            resul = (valor - 32) / (9/5)\n",
    "            return resul\n",
    "        if origen == \"F\" and destino == \"K\":\n",
    "            resul = (valor - 32) *(5/9) + 273.15\n",
    "            return resul\n",
    "        if origen == \"K\" and destino == \"K\":\n",
    "            resul = valor\n",
    "            return resul\n",
    "        if origen == \"K\" and destino == \"F\":\n",
    "            resul = (valor-273.15)*(9/5) + 32\n",
    "            return resul\n",
    "        if origen == \"K\" and destino == \"C\":\n",
    "            resul = valor + 273.15\n",
    "            return resul"
   ]
  },
  {
   "attachments": {},
   "cell_type": "markdown",
   "metadata": {},
   "source": [
    "6) Probar las funciones incorporadas en la clase del punto 5"
   ]
  },
  {
   "cell_type": "code",
   "execution_count": 59,
   "metadata": {},
   "outputs": [
    {
     "name": "stdout",
     "output_type": "stream",
     "text": [
      "el valor mas repetido es 53\n",
      "se repite 3 veces\n",
      "278.15\n",
      "False\n"
     ]
    }
   ],
   "source": [
    "lista = [1,5,12,32,22,8,-48,76,9,-25,53,21,46,55,33,5,22,-48,9,88,53,53]\n",
    "a1 = Funciones()\n",
    "a1.numero_repetido(lista)\n",
    "\n",
    "A=a1.conversion(5,\"C\",\"K\")\n",
    "print(A)\n",
    "\n",
    "B= a1.es_primo(18)\n",
    "print(B)\n",
    "\n",
    "\n"
   ]
  },
  {
   "attachments": {},
   "cell_type": "markdown",
   "metadata": {},
   "source": [
    "7) Es necesario que la clase creada en el punto 5 contenga una lista, sobre la cual se apliquen las funciones incorporadas"
   ]
  },
  {
   "cell_type": "code",
   "execution_count": 12,
   "metadata": {},
   "outputs": [
    {
     "name": "stdout",
     "output_type": "stream",
     "text": [
      "3 es numero primo\n",
      "44 no es numero primo\n",
      "5 es numero primo\n",
      "2 es numero primo\n",
      "3 es numero primo\n",
      "1 es numero primo\n",
      "3 grados C son 276.15 grados K\n",
      "44 grados C son 317.15 grados K\n",
      "5 grados C son 278.15 grados K\n",
      "2 grados C son 275.15 grados K\n",
      "3 grados C son 276.15 grados K\n",
      "1 grados C son 274.15 grados K\n",
      "el mas repetido de la lista es 3 se repite 2 veces\n"
     ]
    }
   ],
   "source": [
    "class Funciones:\n",
    "    def __init__(self,lista_entrada) -> None:\n",
    "        self.lista=lista_entrada\n",
    "        pass\n",
    "    \n",
    "    def es_primo(self): \n",
    "        for i in self.lista:\n",
    "            if (self.__es_primo(i)):\n",
    "                print(i,\"es numero primo\")\n",
    "            else:   \n",
    "                print(i,\"no es numero primo\")\n",
    "\n",
    "    def conversion(self,origen,destino):\n",
    "        for i in self.lista:\n",
    "            print(i,'grados',origen,'son',self.__conversion(i,origen,destino),'grados',destino)\n",
    "\n",
    "    def numero_repetido(self,list):\n",
    "        for i in self.lista:\n",
    "            A ,B= self.__numero_repetido(list)\n",
    "\n",
    "        print(\"el mas repetido de la lista es\",A,'se repite',B,'veces')\n",
    "        \n",
    "    def __es_primo(self,numero):\n",
    "        \n",
    "        if (numero < 1):\n",
    "            return False\n",
    "        for i in range(2,int(numero**0.5)+1):\n",
    "            if numero % i == 0:\n",
    "                return False\n",
    "        return True\n",
    "    \n",
    "    def __numero_repetido(self,lista):\n",
    "        \n",
    "        numero_de_repetiones = 0\n",
    "        i= 0\n",
    "        lista_de_repetidos = []\n",
    "        lista_de_no_repetidos = []\n",
    "        contador_local=[]\n",
    "        for componente in lista:\n",
    "            if componente not in lista_de_no_repetidos:\n",
    "                lista_de_no_repetidos.append(componente)\n",
    "            else:\n",
    "                lista_de_repetidos.append(componente)\n",
    "        for componente in lista_de_repetidos:\n",
    "            contador_local.append(lista_de_repetidos.count(componente))\n",
    "\n",
    "        contador = max(contador_local)+1\n",
    "        i = contador_local.index(max(contador_local))\n",
    "        mas_repetido = lista_de_repetidos[i]\n",
    "        return mas_repetido,contador\n",
    "    \n",
    "    def __conversion(self,valor,origen,destino):\n",
    "\n",
    "        if origen == \"C\" and destino == \"C\":\n",
    "            resul = valor\n",
    "            return resul\n",
    "        if origen == \"C\" and destino == \"F\":\n",
    "            resul = valor * (9/5) + 32\n",
    "            return resul\n",
    "        if origen == \"C\" and destino == \"K\":\n",
    "            resul = valor + 273.15\n",
    "            return resul\n",
    "        if origen == \"F\" and destino == \"F\":\n",
    "            resul = valor\n",
    "            return resul\n",
    "        if origen == \"F\" and destino == \"C\":\n",
    "            resul = (valor - 32) / (9/5)\n",
    "            return resul\n",
    "        if origen == \"F\" and destino == \"K\":\n",
    "            resul = (valor - 32) *(5/9) + 273.15\n",
    "            return resul\n",
    "        if origen == \"K\" and destino == \"K\":\n",
    "            resul = valor\n",
    "            return resul\n",
    "        if origen == \"K\" and destino == \"F\":\n",
    "            resul = (valor-273.15)*(9/5) + 32\n",
    "            return resul\n",
    "        if origen == \"K\" and destino == \"C\":\n",
    "            resul = valor + 273.15\n",
    "            return resul\n",
    "        \n",
    "o = [3,44,5,2,3,1]\n",
    "j = Funciones(o)\n",
    "\n",
    "j.es_primo()\n",
    "j.conversion(\"C\",\"K\")\n",
    "j.numero_repetido(o)"
   ]
  },
  {
   "attachments": {},
   "cell_type": "markdown",
   "metadata": {},
   "source": [
    "8) Crear un archivo .py aparte y ubicar allí la clase generada en el punto anterior. Luego realizar la importación del módulo y probar alguna de sus funciones"
   ]
  },
  {
   "cell_type": "code",
   "execution_count": 23,
   "metadata": {},
   "outputs": [
    {
     "name": "stdout",
     "output_type": "stream",
     "text": [
      "1 es numero primo\n",
      "1 es numero primo\n",
      "1 es numero primo\n",
      "3 es numero primo\n",
      "42 no es numero primo\n",
      "-5 no es numero primo\n",
      "1 grados K son 274.15 grados C\n",
      "1 grados K son 274.15 grados C\n",
      "1 grados K son 274.15 grados C\n",
      "3 grados K son 276.15 grados C\n"
     ]
    },
    {
     "ename": "KeyboardInterrupt",
     "evalue": "",
     "output_type": "error",
     "traceback": [
      "\u001b[1;31m---------------------------------------------------------------------------\u001b[0m",
      "\u001b[1;31mKeyboardInterrupt\u001b[0m                         Traceback (most recent call last)",
      "\u001b[1;32m~\\AppData\\Local\\Temp\\ipykernel_908\\1469970352.py\u001b[0m in \u001b[0;36m<module>\u001b[1;34m\u001b[0m\n\u001b[0;32m      7\u001b[0m \u001b[0mq\u001b[0m\u001b[1;33m.\u001b[0m\u001b[0mes_primo\u001b[0m\u001b[1;33m(\u001b[0m\u001b[1;33m)\u001b[0m\u001b[1;33m\u001b[0m\u001b[1;33m\u001b[0m\u001b[0m\n\u001b[0;32m      8\u001b[0m \u001b[1;33m\u001b[0m\u001b[0m\n\u001b[1;32m----> 9\u001b[1;33m \u001b[0mq\u001b[0m\u001b[1;33m.\u001b[0m\u001b[0mconversion\u001b[0m\u001b[1;33m(\u001b[0m\u001b[1;34m\"K\"\u001b[0m\u001b[1;33m,\u001b[0m\u001b[1;34m\"C\"\u001b[0m\u001b[1;33m)\u001b[0m\u001b[1;33m\u001b[0m\u001b[1;33m\u001b[0m\u001b[0m\n\u001b[0m\u001b[0;32m     10\u001b[0m \u001b[1;33m\u001b[0m\u001b[0m\n\u001b[0;32m     11\u001b[0m \u001b[0mq\u001b[0m\u001b[1;33m.\u001b[0m\u001b[0mnumero_repetido\u001b[0m\u001b[1;33m(\u001b[0m\u001b[0mp\u001b[0m\u001b[1;33m)\u001b[0m\u001b[1;33m\u001b[0m\u001b[1;33m\u001b[0m\u001b[0m\n",
      "\u001b[1;32m~\\AppData\\Local\\Temp\\ipykernel_908\\1593018336.py\u001b[0m in \u001b[0;36mconversion\u001b[1;34m(self, origen, destino)\u001b[0m\n\u001b[0;32m     13\u001b[0m     \u001b[1;32mdef\u001b[0m \u001b[0mconversion\u001b[0m\u001b[1;33m(\u001b[0m\u001b[0mself\u001b[0m\u001b[1;33m,\u001b[0m\u001b[0morigen\u001b[0m\u001b[1;33m,\u001b[0m\u001b[0mdestino\u001b[0m\u001b[1;33m)\u001b[0m\u001b[1;33m:\u001b[0m\u001b[1;33m\u001b[0m\u001b[1;33m\u001b[0m\u001b[0m\n\u001b[0;32m     14\u001b[0m         \u001b[1;32mfor\u001b[0m \u001b[0mi\u001b[0m \u001b[1;32min\u001b[0m \u001b[0mself\u001b[0m\u001b[1;33m.\u001b[0m\u001b[0mlista\u001b[0m\u001b[1;33m:\u001b[0m\u001b[1;33m\u001b[0m\u001b[1;33m\u001b[0m\u001b[0m\n\u001b[1;32m---> 15\u001b[1;33m             \u001b[0mprint\u001b[0m\u001b[1;33m(\u001b[0m\u001b[0mi\u001b[0m\u001b[1;33m,\u001b[0m\u001b[1;34m'grados'\u001b[0m\u001b[1;33m,\u001b[0m\u001b[0morigen\u001b[0m\u001b[1;33m,\u001b[0m\u001b[1;34m'son'\u001b[0m\u001b[1;33m,\u001b[0m\u001b[0mself\u001b[0m\u001b[1;33m.\u001b[0m\u001b[0m__conversion\u001b[0m\u001b[1;33m(\u001b[0m\u001b[0mi\u001b[0m\u001b[1;33m,\u001b[0m\u001b[0morigen\u001b[0m\u001b[1;33m,\u001b[0m\u001b[0mdestino\u001b[0m\u001b[1;33m)\u001b[0m\u001b[1;33m,\u001b[0m\u001b[1;34m'grados'\u001b[0m\u001b[1;33m,\u001b[0m\u001b[0mdestino\u001b[0m\u001b[1;33m)\u001b[0m\u001b[1;33m\u001b[0m\u001b[1;33m\u001b[0m\u001b[0m\n\u001b[0m\u001b[0;32m     16\u001b[0m \u001b[1;33m\u001b[0m\u001b[0m\n\u001b[0;32m     17\u001b[0m     \u001b[1;32mdef\u001b[0m \u001b[0mnumero_repetido\u001b[0m\u001b[1;33m(\u001b[0m\u001b[0mself\u001b[0m\u001b[1;33m,\u001b[0m\u001b[0mlist\u001b[0m\u001b[1;33m)\u001b[0m\u001b[1;33m:\u001b[0m\u001b[1;33m\u001b[0m\u001b[1;33m\u001b[0m\u001b[0m\n",
      "\u001b[1;32m~\\AppData\\Local\\Temp\\ipykernel_908\\1593018336.py\u001b[0m in \u001b[0;36m__conversion\u001b[1;34m(self, valor, origen, destino)\u001b[0m\n\u001b[0;32m     55\u001b[0m             \u001b[0mresul\u001b[0m \u001b[1;33m=\u001b[0m \u001b[0mvalor\u001b[0m\u001b[1;33m\u001b[0m\u001b[1;33m\u001b[0m\u001b[0m\n\u001b[0;32m     56\u001b[0m             \u001b[1;32mreturn\u001b[0m \u001b[0mresul\u001b[0m\u001b[1;33m\u001b[0m\u001b[1;33m\u001b[0m\u001b[0m\n\u001b[1;32m---> 57\u001b[1;33m         \u001b[1;32mif\u001b[0m \u001b[0morigen\u001b[0m \u001b[1;33m==\u001b[0m \u001b[1;34m\"C\"\u001b[0m \u001b[1;32mand\u001b[0m \u001b[0mdestino\u001b[0m \u001b[1;33m==\u001b[0m \u001b[1;34m\"F\"\u001b[0m\u001b[1;33m:\u001b[0m\u001b[1;33m\u001b[0m\u001b[1;33m\u001b[0m\u001b[0m\n\u001b[0m\u001b[0;32m     58\u001b[0m             \u001b[0mresul\u001b[0m \u001b[1;33m=\u001b[0m \u001b[0mvalor\u001b[0m \u001b[1;33m*\u001b[0m \u001b[1;33m(\u001b[0m\u001b[1;36m9\u001b[0m\u001b[1;33m/\u001b[0m\u001b[1;36m5\u001b[0m\u001b[1;33m)\u001b[0m \u001b[1;33m+\u001b[0m \u001b[1;36m32\u001b[0m\u001b[1;33m\u001b[0m\u001b[1;33m\u001b[0m\u001b[0m\n\u001b[0;32m     59\u001b[0m             \u001b[1;32mreturn\u001b[0m \u001b[0mresul\u001b[0m\u001b[1;33m\u001b[0m\u001b[1;33m\u001b[0m\u001b[0m\n",
      "\u001b[1;32m~\\AppData\\Local\\Temp\\ipykernel_908\\1593018336.py\u001b[0m in \u001b[0;36m__conversion\u001b[1;34m(self, valor, origen, destino)\u001b[0m\n\u001b[0;32m     55\u001b[0m             \u001b[0mresul\u001b[0m \u001b[1;33m=\u001b[0m \u001b[0mvalor\u001b[0m\u001b[1;33m\u001b[0m\u001b[1;33m\u001b[0m\u001b[0m\n\u001b[0;32m     56\u001b[0m             \u001b[1;32mreturn\u001b[0m \u001b[0mresul\u001b[0m\u001b[1;33m\u001b[0m\u001b[1;33m\u001b[0m\u001b[0m\n\u001b[1;32m---> 57\u001b[1;33m         \u001b[1;32mif\u001b[0m \u001b[0morigen\u001b[0m \u001b[1;33m==\u001b[0m \u001b[1;34m\"C\"\u001b[0m \u001b[1;32mand\u001b[0m \u001b[0mdestino\u001b[0m \u001b[1;33m==\u001b[0m \u001b[1;34m\"F\"\u001b[0m\u001b[1;33m:\u001b[0m\u001b[1;33m\u001b[0m\u001b[1;33m\u001b[0m\u001b[0m\n\u001b[0m\u001b[0;32m     58\u001b[0m             \u001b[0mresul\u001b[0m \u001b[1;33m=\u001b[0m \u001b[0mvalor\u001b[0m \u001b[1;33m*\u001b[0m \u001b[1;33m(\u001b[0m\u001b[1;36m9\u001b[0m\u001b[1;33m/\u001b[0m\u001b[1;36m5\u001b[0m\u001b[1;33m)\u001b[0m \u001b[1;33m+\u001b[0m \u001b[1;36m32\u001b[0m\u001b[1;33m\u001b[0m\u001b[1;33m\u001b[0m\u001b[0m\n\u001b[0;32m     59\u001b[0m             \u001b[1;32mreturn\u001b[0m \u001b[0mresul\u001b[0m\u001b[1;33m\u001b[0m\u001b[1;33m\u001b[0m\u001b[0m\n",
      "\u001b[1;32m_pydevd_bundle/pydevd_cython.pyx\u001b[0m in \u001b[0;36m_pydevd_bundle.pydevd_cython.SafeCallWrapper.__call__\u001b[1;34m()\u001b[0m\n",
      "\u001b[1;32m_pydevd_bundle/pydevd_cython.pyx\u001b[0m in \u001b[0;36m_pydevd_bundle.pydevd_cython.PyDBFrame.trace_dispatch\u001b[1;34m()\u001b[0m\n",
      "\u001b[1;32m_pydevd_bundle/pydevd_cython.pyx\u001b[0m in \u001b[0;36m_pydevd_bundle.pydevd_cython.PyDBFrame.trace_dispatch\u001b[1;34m()\u001b[0m\n",
      "\u001b[1;32m_pydevd_bundle/pydevd_cython.pyx\u001b[0m in \u001b[0;36m_pydevd_bundle.pydevd_cython.PyDBFrame.trace_dispatch\u001b[1;34m()\u001b[0m\n",
      "\u001b[1;32m_pydevd_bundle/pydevd_cython.pyx\u001b[0m in \u001b[0;36m_pydevd_bundle.pydevd_cython.PyDBFrame.do_wait_suspend\u001b[1;34m()\u001b[0m\n",
      "\u001b[1;32m~\\AppData\\Roaming\\Python\\Python37\\site-packages\\debugpy\\_vendored\\pydevd\\pydevd.py\u001b[0m in \u001b[0;36mdo_wait_suspend\u001b[1;34m(self, thread, frame, event, arg, exception_type)\u001b[0m\n\u001b[0;32m   2068\u001b[0m \u001b[1;33m\u001b[0m\u001b[0m\n\u001b[0;32m   2069\u001b[0m             \u001b[1;32mwith\u001b[0m \u001b[0mself\u001b[0m\u001b[1;33m.\u001b[0m\u001b[0m_threads_suspended_single_notification\u001b[0m\u001b[1;33m.\u001b[0m\u001b[0mnotify_thread_suspended\u001b[0m\u001b[1;33m(\u001b[0m\u001b[0mthread_id\u001b[0m\u001b[1;33m,\u001b[0m \u001b[0mthread\u001b[0m\u001b[1;33m,\u001b[0m \u001b[0mstop_reason\u001b[0m\u001b[1;33m)\u001b[0m\u001b[1;33m:\u001b[0m\u001b[1;33m\u001b[0m\u001b[1;33m\u001b[0m\u001b[0m\n\u001b[1;32m-> 2070\u001b[1;33m                 \u001b[0mkeep_suspended\u001b[0m \u001b[1;33m=\u001b[0m \u001b[0mself\u001b[0m\u001b[1;33m.\u001b[0m\u001b[0m_do_wait_suspend\u001b[0m\u001b[1;33m(\u001b[0m\u001b[0mthread\u001b[0m\u001b[1;33m,\u001b[0m \u001b[0mframe\u001b[0m\u001b[1;33m,\u001b[0m \u001b[0mevent\u001b[0m\u001b[1;33m,\u001b[0m \u001b[0marg\u001b[0m\u001b[1;33m,\u001b[0m \u001b[0msuspend_type\u001b[0m\u001b[1;33m,\u001b[0m \u001b[0mfrom_this_thread\u001b[0m\u001b[1;33m,\u001b[0m \u001b[0mframes_tracker\u001b[0m\u001b[1;33m)\u001b[0m\u001b[1;33m\u001b[0m\u001b[1;33m\u001b[0m\u001b[0m\n\u001b[0m\u001b[0;32m   2071\u001b[0m \u001b[1;33m\u001b[0m\u001b[0m\n\u001b[0;32m   2072\u001b[0m         \u001b[0mframes_list\u001b[0m \u001b[1;33m=\u001b[0m \u001b[1;32mNone\u001b[0m\u001b[1;33m\u001b[0m\u001b[1;33m\u001b[0m\u001b[0m\n",
      "\u001b[1;32m~\\AppData\\Roaming\\Python\\Python37\\site-packages\\debugpy\\_vendored\\pydevd\\pydevd.py\u001b[0m in \u001b[0;36m_do_wait_suspend\u001b[1;34m(self, thread, frame, event, arg, suspend_type, from_this_thread, frames_tracker)\u001b[0m\n\u001b[0;32m   2104\u001b[0m \u001b[1;33m\u001b[0m\u001b[0m\n\u001b[0;32m   2105\u001b[0m             \u001b[0mself\u001b[0m\u001b[1;33m.\u001b[0m\u001b[0mprocess_internal_commands\u001b[0m\u001b[1;33m(\u001b[0m\u001b[1;33m)\u001b[0m\u001b[1;33m\u001b[0m\u001b[1;33m\u001b[0m\u001b[0m\n\u001b[1;32m-> 2106\u001b[1;33m             \u001b[0mtime\u001b[0m\u001b[1;33m.\u001b[0m\u001b[0msleep\u001b[0m\u001b[1;33m(\u001b[0m\u001b[1;36m0.01\u001b[0m\u001b[1;33m)\u001b[0m\u001b[1;33m\u001b[0m\u001b[1;33m\u001b[0m\u001b[0m\n\u001b[0m\u001b[0;32m   2107\u001b[0m \u001b[1;33m\u001b[0m\u001b[0m\n\u001b[0;32m   2108\u001b[0m         \u001b[0mself\u001b[0m\u001b[1;33m.\u001b[0m\u001b[0mcancel_async_evaluation\u001b[0m\u001b[1;33m(\u001b[0m\u001b[0mget_current_thread_id\u001b[0m\u001b[1;33m(\u001b[0m\u001b[0mthread\u001b[0m\u001b[1;33m)\u001b[0m\u001b[1;33m,\u001b[0m \u001b[0mstr\u001b[0m\u001b[1;33m(\u001b[0m\u001b[0mid\u001b[0m\u001b[1;33m(\u001b[0m\u001b[0mframe\u001b[0m\u001b[1;33m)\u001b[0m\u001b[1;33m)\u001b[0m\u001b[1;33m)\u001b[0m\u001b[1;33m\u001b[0m\u001b[1;33m\u001b[0m\u001b[0m\n",
      "\u001b[1;31mKeyboardInterrupt\u001b[0m: "
     ]
    }
   ],
   "source": [
    "import MultipleFunciones\n",
    "\n",
    "p = [1,1,1,3,42,-5]\n",
    "\n",
    "q = Funciones(p)\n",
    "\n",
    "q.es_primo()\n",
    "\n",
    "q.conversion(\"K\",\"C\")\n",
    "\n",
    "q.numero_repetido(p)"
   ]
  },
  {
   "cell_type": "code",
   "execution_count": 37,
   "metadata": {},
   "outputs": [
    {
     "name": "stdout",
     "output_type": "stream",
     "text": [
      "el mas repetido de la lista es 2 se repite 3 veces\n"
     ]
    },
    {
     "ename": "KeyboardInterrupt",
     "evalue": "",
     "output_type": "error",
     "traceback": [
      "\u001b[1;31m---------------------------------------------------------------------------\u001b[0m",
      "\u001b[1;31mKeyboardInterrupt\u001b[0m                         Traceback (most recent call last)",
      "\u001b[1;32m~\\AppData\\Local\\Temp\\ipykernel_908\\3686822149.py\u001b[0m in \u001b[0;36m<module>\u001b[1;34m\u001b[0m\n\u001b[0;32m      4\u001b[0m \u001b[0mh\u001b[0m \u001b[1;33m=\u001b[0m \u001b[0mFunciones\u001b[0m \u001b[1;33m(\u001b[0m\u001b[0mu\u001b[0m\u001b[1;33m)\u001b[0m\u001b[1;33m\u001b[0m\u001b[1;33m\u001b[0m\u001b[0m\n\u001b[0;32m      5\u001b[0m \u001b[0mh\u001b[0m\u001b[1;33m.\u001b[0m\u001b[0mnumero_repetido\u001b[0m\u001b[1;33m(\u001b[0m\u001b[0mu\u001b[0m\u001b[1;33m)\u001b[0m\u001b[1;33m\u001b[0m\u001b[1;33m\u001b[0m\u001b[0m\n\u001b[1;32m----> 6\u001b[1;33m \u001b[0mprint\u001b[0m\u001b[1;33m(\u001b[0m\u001b[0mA\u001b[0m\u001b[1;33m)\u001b[0m\u001b[1;33m\u001b[0m\u001b[1;33m\u001b[0m\u001b[0m\n\u001b[0m",
      "\u001b[1;32m~\\AppData\\Local\\Temp\\ipykernel_908\\3686822149.py\u001b[0m in \u001b[0;36m<module>\u001b[1;34m\u001b[0m\n\u001b[0;32m      4\u001b[0m \u001b[0mh\u001b[0m \u001b[1;33m=\u001b[0m \u001b[0mFunciones\u001b[0m \u001b[1;33m(\u001b[0m\u001b[0mu\u001b[0m\u001b[1;33m)\u001b[0m\u001b[1;33m\u001b[0m\u001b[1;33m\u001b[0m\u001b[0m\n\u001b[0;32m      5\u001b[0m \u001b[0mh\u001b[0m\u001b[1;33m.\u001b[0m\u001b[0mnumero_repetido\u001b[0m\u001b[1;33m(\u001b[0m\u001b[0mu\u001b[0m\u001b[1;33m)\u001b[0m\u001b[1;33m\u001b[0m\u001b[1;33m\u001b[0m\u001b[0m\n\u001b[1;32m----> 6\u001b[1;33m \u001b[0mprint\u001b[0m\u001b[1;33m(\u001b[0m\u001b[0mA\u001b[0m\u001b[1;33m)\u001b[0m\u001b[1;33m\u001b[0m\u001b[1;33m\u001b[0m\u001b[0m\n\u001b[0m",
      "\u001b[1;32m_pydevd_bundle/pydevd_cython.pyx\u001b[0m in \u001b[0;36m_pydevd_bundle.pydevd_cython.SafeCallWrapper.__call__\u001b[1;34m()\u001b[0m\n",
      "\u001b[1;32m_pydevd_bundle/pydevd_cython.pyx\u001b[0m in \u001b[0;36m_pydevd_bundle.pydevd_cython.PyDBFrame.trace_dispatch\u001b[1;34m()\u001b[0m\n",
      "\u001b[1;32m_pydevd_bundle/pydevd_cython.pyx\u001b[0m in \u001b[0;36m_pydevd_bundle.pydevd_cython.PyDBFrame.trace_dispatch\u001b[1;34m()\u001b[0m\n",
      "\u001b[1;32m_pydevd_bundle/pydevd_cython.pyx\u001b[0m in \u001b[0;36m_pydevd_bundle.pydevd_cython.PyDBFrame.trace_dispatch\u001b[1;34m()\u001b[0m\n",
      "\u001b[1;32m_pydevd_bundle/pydevd_cython.pyx\u001b[0m in \u001b[0;36m_pydevd_bundle.pydevd_cython.PyDBFrame.do_wait_suspend\u001b[1;34m()\u001b[0m\n",
      "\u001b[1;32m~\\AppData\\Roaming\\Python\\Python37\\site-packages\\debugpy\\_vendored\\pydevd\\pydevd.py\u001b[0m in \u001b[0;36mdo_wait_suspend\u001b[1;34m(self, thread, frame, event, arg, exception_type)\u001b[0m\n\u001b[0;32m   2068\u001b[0m \u001b[1;33m\u001b[0m\u001b[0m\n\u001b[0;32m   2069\u001b[0m             \u001b[1;32mwith\u001b[0m \u001b[0mself\u001b[0m\u001b[1;33m.\u001b[0m\u001b[0m_threads_suspended_single_notification\u001b[0m\u001b[1;33m.\u001b[0m\u001b[0mnotify_thread_suspended\u001b[0m\u001b[1;33m(\u001b[0m\u001b[0mthread_id\u001b[0m\u001b[1;33m,\u001b[0m \u001b[0mthread\u001b[0m\u001b[1;33m,\u001b[0m \u001b[0mstop_reason\u001b[0m\u001b[1;33m)\u001b[0m\u001b[1;33m:\u001b[0m\u001b[1;33m\u001b[0m\u001b[1;33m\u001b[0m\u001b[0m\n\u001b[1;32m-> 2070\u001b[1;33m                 \u001b[0mkeep_suspended\u001b[0m \u001b[1;33m=\u001b[0m \u001b[0mself\u001b[0m\u001b[1;33m.\u001b[0m\u001b[0m_do_wait_suspend\u001b[0m\u001b[1;33m(\u001b[0m\u001b[0mthread\u001b[0m\u001b[1;33m,\u001b[0m \u001b[0mframe\u001b[0m\u001b[1;33m,\u001b[0m \u001b[0mevent\u001b[0m\u001b[1;33m,\u001b[0m \u001b[0marg\u001b[0m\u001b[1;33m,\u001b[0m \u001b[0msuspend_type\u001b[0m\u001b[1;33m,\u001b[0m \u001b[0mfrom_this_thread\u001b[0m\u001b[1;33m,\u001b[0m \u001b[0mframes_tracker\u001b[0m\u001b[1;33m)\u001b[0m\u001b[1;33m\u001b[0m\u001b[1;33m\u001b[0m\u001b[0m\n\u001b[0m\u001b[0;32m   2071\u001b[0m \u001b[1;33m\u001b[0m\u001b[0m\n\u001b[0;32m   2072\u001b[0m         \u001b[0mframes_list\u001b[0m \u001b[1;33m=\u001b[0m \u001b[1;32mNone\u001b[0m\u001b[1;33m\u001b[0m\u001b[1;33m\u001b[0m\u001b[0m\n",
      "\u001b[1;32m~\\AppData\\Roaming\\Python\\Python37\\site-packages\\debugpy\\_vendored\\pydevd\\pydevd.py\u001b[0m in \u001b[0;36m_do_wait_suspend\u001b[1;34m(self, thread, frame, event, arg, suspend_type, from_this_thread, frames_tracker)\u001b[0m\n\u001b[0;32m   2104\u001b[0m \u001b[1;33m\u001b[0m\u001b[0m\n\u001b[0;32m   2105\u001b[0m             \u001b[0mself\u001b[0m\u001b[1;33m.\u001b[0m\u001b[0mprocess_internal_commands\u001b[0m\u001b[1;33m(\u001b[0m\u001b[1;33m)\u001b[0m\u001b[1;33m\u001b[0m\u001b[1;33m\u001b[0m\u001b[0m\n\u001b[1;32m-> 2106\u001b[1;33m             \u001b[0mtime\u001b[0m\u001b[1;33m.\u001b[0m\u001b[0msleep\u001b[0m\u001b[1;33m(\u001b[0m\u001b[1;36m0.01\u001b[0m\u001b[1;33m)\u001b[0m\u001b[1;33m\u001b[0m\u001b[1;33m\u001b[0m\u001b[0m\n\u001b[0m\u001b[0;32m   2107\u001b[0m \u001b[1;33m\u001b[0m\u001b[0m\n\u001b[0;32m   2108\u001b[0m         \u001b[0mself\u001b[0m\u001b[1;33m.\u001b[0m\u001b[0mcancel_async_evaluation\u001b[0m\u001b[1;33m(\u001b[0m\u001b[0mget_current_thread_id\u001b[0m\u001b[1;33m(\u001b[0m\u001b[0mthread\u001b[0m\u001b[1;33m)\u001b[0m\u001b[1;33m,\u001b[0m \u001b[0mstr\u001b[0m\u001b[1;33m(\u001b[0m\u001b[0mid\u001b[0m\u001b[1;33m(\u001b[0m\u001b[0mframe\u001b[0m\u001b[1;33m)\u001b[0m\u001b[1;33m)\u001b[0m\u001b[1;33m)\u001b[0m\u001b[1;33m\u001b[0m\u001b[1;33m\u001b[0m\u001b[0m\n",
      "\u001b[1;31mKeyboardInterrupt\u001b[0m: "
     ]
    }
   ],
   "source": [
    "from MultipleFunciones import Funciones\n",
    "\n",
    "u = [1,2,2,2,32,5,6]\n",
    "h = Funciones (u)\n",
    "h.numero_repetido(u)\n"
   ]
  }
 ],
 "metadata": {
  "interpreter": {
   "hash": "c85384e4cb51c8b72350f3a8712cc8351fdc3955e32a27f9b60c6242ab125f01"
  },
  "kernelspec": {
   "display_name": "Python 3 (ipykernel)",
   "language": "python",
   "name": "python3"
  },
  "language_info": {
   "codemirror_mode": {
    "name": "ipython",
    "version": 3
   },
   "file_extension": ".py",
   "mimetype": "text/x-python",
   "name": "python",
   "nbconvert_exporter": "python",
   "pygments_lexer": "ipython3",
   "version": "3.7.5"
  }
 },
 "nbformat": 4,
 "nbformat_minor": 4
}
