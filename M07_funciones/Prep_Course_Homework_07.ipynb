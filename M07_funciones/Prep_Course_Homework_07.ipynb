{
 "cells": [
  {
   "attachments": {},
   "cell_type": "markdown",
   "metadata": {},
   "source": [
    "## Funciones"
   ]
  },
  {
   "attachments": {},
   "cell_type": "markdown",
   "metadata": {},
   "source": [
    "1) Crear una función que reciba un número como parámetro y devuelva True si es primo y False si no lo es"
   ]
  },
  {
   "cell_type": "code",
   "execution_count": 2,
   "metadata": {},
   "outputs": [
    {
     "name": "stdout",
     "output_type": "stream",
     "text": [
      "17 es un numero primo\n"
     ]
    }
   ],
   "source": [
    "def es_primo(numero):\n",
    "    if (numero < 1):\n",
    "        return False\n",
    "    for i in range(2,int(numero**0.5)+1):\n",
    "        if numero % i == 0:\n",
    "            return False\n",
    "    return True\n",
    "\n",
    "numero = 17\n",
    "if es_primo(numero):\n",
    "    print(numero,'es un numero primo')\n",
    "else:\n",
    "    print(numero,'no es numero primo')\n",
    "    "
   ]
  },
  {
   "attachments": {},
   "cell_type": "markdown",
   "metadata": {},
   "source": [
    "2) Utilizando la función del punto 1, realizar otra función que reciba de parámetro una lista de números y devuelva sólo aquellos que son primos en otra lista"
   ]
  },
  {
   "cell_type": "code",
   "execution_count": 19,
   "metadata": {},
   "outputs": [
    {
     "name": "stdout",
     "output_type": "stream",
     "text": [
      "[1, 5, 53]\n"
     ]
    }
   ],
   "source": [
    "lista = [1,5,12,32,22,8,-48,76,9,-25,53,21,46,55,33]\n",
    "lista_de_n_primos=[]\n",
    "\n",
    "for i in range(len(lista)):\n",
    "    if es_primo(lista[i]):\n",
    "        lista_de_n_primos.append(lista[i])\n",
    "\n",
    "print(lista_de_n_primos)\n",
    "\n",
    "def es_primo(numero):\n",
    "    if (numero < 1):\n",
    "        return False\n",
    "    for i in range(2,int(numero**0.5)+1):\n",
    "        if numero % i == 0:\n",
    "            return False\n",
    "        \n",
    "    return numero\n",
    "\n"
   ]
  },
  {
   "attachments": {},
   "cell_type": "markdown",
   "metadata": {},
   "source": [
    "3) Crear una función que al recibir una lista de números, devuelva el que más se repite y cuántas veces lo hace. Si hay más de un \"más repetido\", que devuelva cualquiera"
   ]
  },
  {
   "cell_type": "code",
   "execution_count": 76,
   "metadata": {},
   "outputs": [
    {
     "name": "stdout",
     "output_type": "stream",
     "text": [
      "El numero mas repetido de la lista es: 53\n",
      "La cantidad de veces que se repite es: 2\n"
     ]
    }
   ],
   "source": [
    "lista = [1,5,12,32,22,8,-48,76,9,-25,53,21,46,55,33,5,22,-48,9,88,53,53]\n",
    "\n",
    "A,B =numero_repetido(lista,A,B)\n",
    "print('El numero mas repetido de la lista es:',A)\n",
    "print('La cantidad de veces que se repite es:',B)\n",
    "\n",
    "def numero_repetido(list,mas_repetido,contador):\n",
    "    numero_de_repetiones = 0\n",
    "    i= 0\n",
    "    lista_de_repetidos = []\n",
    "    lista_de_no_repetidos = []\n",
    "    contador_local=[]\n",
    "    for componente in lista:\n",
    "        if componente not in lista_de_no_repetidos:\n",
    "            lista_de_no_repetidos.append(componente)\n",
    "        else:\n",
    "            lista_de_repetidos.append(componente)\n",
    "    for componente in lista_de_repetidos:\n",
    "         contador_local.append(lista_de_repetidos.count(componente))\n",
    "\n",
    "    contador = max(contador_local)+1\n",
    "    i = contador_local.index(max(contador_local))\n",
    "    mas_repetido = lista_de_repetidos[i]\n",
    "    return mas_repetido,contador\n"
   ]
  },
  {
   "attachments": {},
   "cell_type": "markdown",
   "metadata": {},
   "source": [
    "4) Crear una función que convierta entre grados Celsius, Farenheit y Kelvin<br>\n",
    "Fórmula 1\t: (°C × 9/5) + 32 = °F<br>\n",
    "Fórmula 2\t: °C + 273.15 = °K<br>\n",
    "Debe recibir 3 parámetros: el valor, la medida de orígen y la medida de destino\n"
   ]
  },
  {
   "cell_type": "code",
   "execution_count": 2,
   "metadata": {},
   "outputs": [
    {
     "name": "stdout",
     "output_type": "stream",
     "text": [
      "1 grado Celsius a Celsius: 1\n",
      "1 grado Celsius a Kelvin: 274.15\n",
      "1 grado Celsius a Farenheit: 33.8\n",
      "1 grado Kelvin a Celsius: 274.15\n",
      "1 grado Kelvin a Kelvin: 1\n",
      "1 grado Kelvin a Farenheit: -457.86999999999995\n",
      "1 grado Farenheit a Celsius: -17.22222222222222\n",
      "1 grado Farenheit a Kelvin: 255.92777777777775\n",
      "1 grado Farenheit a Farenheit: 1\n"
     ]
    }
   ],
   "source": [
    "\n",
    "def conversion(valor,origen,destino):\n",
    "    if origen == \"C\" and destino == \"C\":\n",
    "       resul = valor\n",
    "       return resul\n",
    "    if origen == \"C\" and destino == \"F\":\n",
    "      resul = valor * (9/5) + 32\n",
    "      return resul\n",
    "    if origen == \"C\" and destino == \"K\":\n",
    "      resul = valor + 273.15\n",
    "      return resul\n",
    "    if origen == \"F\" and destino == \"F\":\n",
    "       resul = valor\n",
    "       return resul\n",
    "    if origen == \"F\" and destino == \"C\":\n",
    "       resul = (valor - 32) / (9/5)\n",
    "       return resul\n",
    "    if origen == \"F\" and destino == \"K\":\n",
    "       resul = (valor - 32) *(5/9) + 273.15\n",
    "       return resul\n",
    "    if origen == \"K\" and destino == \"K\":\n",
    "       resul = valor\n",
    "       return resul\n",
    "    if origen == \"K\" and destino == \"F\":\n",
    "       resul = (valor-273.15)*(9/5) + 32\n",
    "       return resul\n",
    "    if origen == \"K\" and destino == \"C\":\n",
    "       resul = valor + 273.15\n",
    "       return resul\n",
    "\n",
    "print('1 grado Celsius a Celsius:', conversion(1, 'C', 'C'))\n",
    "print('1 grado Celsius a Kelvin:', conversion(1, 'C', 'K'))\n",
    "print('1 grado Celsius a Farenheit:', conversion(1, 'C', 'F'))\n",
    "print('1 grado Kelvin a Celsius:', conversion(1, 'K', 'C'))\n",
    "print('1 grado Kelvin a Kelvin:', conversion(1, 'K', 'K'))\n",
    "print('1 grado Kelvin a Farenheit:', conversion(1, 'K', 'F'))\n",
    "print('1 grado Farenheit a Celsius:', conversion(1, 'F', 'C'))\n",
    "print('1 grado Farenheit a Kelvin:', conversion(1, 'F', 'K'))\n",
    "print('1 grado Farenheit a Farenheit:', conversion(1, 'F', 'F'))\n",
    "\n"
   ]
  },
  {
   "attachments": {},
   "cell_type": "markdown",
   "metadata": {},
   "source": [
    "5) Iterando una lista con los tres valores posibles de temperatura que recibe la función del punto 5, hacer un print para cada combinación de los mismos:"
   ]
  },
  {
   "cell_type": "code",
   "execution_count": 5,
   "metadata": {},
   "outputs": [
    {
     "name": "stdout",
     "output_type": "stream",
     "text": [
      "Las combinaciones posibles son: Celsius y Celsius\n",
      "Las combinaciones posibles son: Celsius y Kelvin\n",
      "Las combinaciones posibles son: Celsius y Farenheit\n",
      "Las combinaciones posibles son: Kelvin y Celsius\n",
      "Las combinaciones posibles son: Kelvin y Kelvin\n",
      "Las combinaciones posibles son: Kelvin y Farenheit\n",
      "Las combinaciones posibles son: Farenheit y Celsius\n",
      "Las combinaciones posibles son: Farenheit y Kelvin\n",
      "Las combinaciones posibles son: Farenheit y Farenheit\n"
     ]
    }
   ],
   "source": [
    "valores_posibles = ['Celsius','Kelvin','Farenheit']\n",
    "for i in range(0,len(valores_posibles)):\n",
    "    for j in range(0,len(valores_posibles)):\n",
    "        print(\"Las combinaciones posibles son:\",valores_posibles[i],'y',valores_posibles[j] )"
   ]
  },
  {
   "attachments": {},
   "cell_type": "markdown",
   "metadata": {},
   "source": [
    "6) Armar una función que devuelva el factorial de un número. Tener en cuenta que el usuario puede equivocarse y enviar de parámetro un número no entero o negativo"
   ]
  },
  {
   "cell_type": "code",
   "execution_count": 7,
   "metadata": {},
   "outputs": [
    {
     "name": "stdout",
     "output_type": "stream",
     "text": [
      "120\n"
     ]
    }
   ],
   "source": [
    "def factorial(numero):\n",
    "    if (numero > 1):\n",
    "        numero = numero * factorial(numero -1)\n",
    "    return numero\n",
    "\n",
    "print(factorial(5))"
   ]
  }
 ],
 "metadata": {
  "interpreter": {
   "hash": "c85384e4cb51c8b72350f3a8712cc8351fdc3955e32a27f9b60c6242ab125f01"
  },
  "kernelspec": {
   "display_name": "Python 3 (ipykernel)",
   "language": "python",
   "name": "python3"
  },
  "language_info": {
   "codemirror_mode": {
    "name": "ipython",
    "version": 3
   },
   "file_extension": ".py",
   "mimetype": "text/x-python",
   "name": "python",
   "nbconvert_exporter": "python",
   "pygments_lexer": "ipython3",
   "version": "3.7.5"
  }
 },
 "nbformat": 4,
 "nbformat_minor": 4
}
