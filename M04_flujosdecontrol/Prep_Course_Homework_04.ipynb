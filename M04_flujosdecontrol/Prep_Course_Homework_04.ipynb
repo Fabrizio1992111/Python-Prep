{
 "cells": [
  {
   "attachments": {},
   "cell_type": "markdown",
   "metadata": {},
   "source": [
    "## Flujos de Control"
   ]
  },
  {
   "attachments": {},
   "cell_type": "markdown",
   "metadata": {},
   "source": [
    "1) Crear una variable que contenga un elemento del conjunto de números enteros y luego imprimir por pantalla si es mayor o menor a cero"
   ]
  },
  {
   "cell_type": "code",
   "execution_count": null,
   "metadata": {},
   "outputs": [],
   "source": [
    "a = 1\n",
    "if a > 0 :\n",
    "    print(\"a es mayor que 0\")\n",
    "else: \n",
    "    print(\"a es menor que 0\")"
   ]
  },
  {
   "attachments": {},
   "cell_type": "markdown",
   "metadata": {},
   "source": [
    "2) Crear dos variables y un condicional que informe si son del mismo tipo de dato"
   ]
  },
  {
   "cell_type": "code",
   "execution_count": null,
   "metadata": {},
   "outputs": [],
   "source": [
    "p = 8\n",
    "o = '8'\n",
    "if type(p) == type(o):\n",
    "    print(\"p y o son del mismo tipo de dato\")\n",
    "else:\n",
    "    print(\"p y o son distintos tipos de datos\")\n"
   ]
  },
  {
   "attachments": {},
   "cell_type": "markdown",
   "metadata": {},
   "source": [
    "3) Para los valores enteros del 1 al 20, imprimir por pantalla si es par o impar"
   ]
  },
  {
   "cell_type": "code",
   "execution_count": null,
   "metadata": {},
   "outputs": [],
   "source": [
    "k = [1,20]\n",
    "for i in range(1,20):\n",
    "    if i % 2 == 0:\n",
    "        print(\"el numero\", i ,\"es par\") \n",
    "    else:\n",
    "        print(\"el numero\",i,\"es impar\")"
   ]
  },
  {
   "attachments": {},
   "cell_type": "markdown",
   "metadata": {},
   "source": [
    "4) En un ciclo for mostrar para los valores entre 0 y 5 el resultado de elevarlo a la potencia igual a 3"
   ]
  },
  {
   "cell_type": "code",
   "execution_count": null,
   "metadata": {},
   "outputs": [],
   "source": [
    "for i in range(0,6):\n",
    "    j = i ** 3 \n",
    "    print(\"la potencia de\",i,\"a la 3 es\", j)"
   ]
  },
  {
   "attachments": {},
   "cell_type": "markdown",
   "metadata": {},
   "source": [
    "5) Crear una variable que contenga un número entero y realizar un ciclo for la misma cantidad de ciclos"
   ]
  },
  {
   "cell_type": "code",
   "execution_count": null,
   "metadata": {},
   "outputs": [],
   "source": [
    "l = 8\n",
    "for i in range(0,l):\n",
    "    pass\n",
    "    print(\"este es el ciclo\",i)"
   ]
  },
  {
   "attachments": {},
   "cell_type": "markdown",
   "metadata": {},
   "source": [
    "6) Utilizar un ciclo while para realizar el factorial de un número guardado en una variable, sólo si la variable contiene un número entero mayor a 0"
   ]
  },
  {
   "cell_type": "code",
   "execution_count": null,
   "metadata": {},
   "outputs": [],
   "source": [
    "ruta = r'C:\\Users\\Fabrizio\\Desktop\\Python-Prep\\tasks'\n",
    "print(\"ingrese un numero\")\n",
    "o=input()\n",
    "o=int(o)\n",
    "if type(o) == int:\n",
    "    if (o > 0):\n",
    "        fact = o\n",
    "        while(o > 2):\n",
    "          o = o - 1\n",
    "          fact = fact * o \n",
    "          print(\"el factorial es\", fact)\n",
    "    else:\n",
    "        print(\"la variable\", o, \"es negativo\")\n",
    "else:\n",
    "    print(\"la variable\",o,\"no es un entero\")\n",
    "   \n",
    "\n",
    "\n"
   ]
  },
  {
   "attachments": {},
   "cell_type": "markdown",
   "metadata": {},
   "source": [
    "7) Crear un ciclo for dentro de un ciclo while"
   ]
  },
  {
   "cell_type": "code",
   "execution_count": null,
   "metadata": {},
   "outputs": [],
   "source": [
    "p = 5 \n",
    "while(p > 0):\n",
    "    for i in range(0,5):\n",
    "        p -= 1\n",
    "        print('la cuenta regrasiva es', p)\n"
   ]
  },
  {
   "attachments": {},
   "cell_type": "markdown",
   "metadata": {},
   "source": [
    "8) Crear un ciclo while dentro de un ciclo for"
   ]
  },
  {
   "cell_type": "code",
   "execution_count": null,
   "metadata": {},
   "outputs": [],
   "source": [
    "for i in range(5,11,2):\n",
    "    while i > 5:\n",
    "        i += 1\n",
    "        if i == 11:\n",
    "            break\n",
    "        print(\"el numero es:\",i)"
   ]
  },
  {
   "attachments": {},
   "cell_type": "markdown",
   "metadata": {},
   "source": [
    "9) Imprimir los números primos existentes entre 0 y 30"
   ]
  },
  {
   "cell_type": "code",
   "execution_count": 9,
   "metadata": {},
   "outputs": [
    {
     "name": "stdout",
     "output_type": "stream",
     "text": [
      "0 no es un numero primo\n",
      "1 es un numero primo\n",
      "2 es un numero primo\n",
      "3 es un numero primo\n",
      "4 no es un numero primo\n",
      "5 es un numero primo\n",
      "6 no es un numero primo\n",
      "7 es un numero primo\n",
      "8 no es un numero primo\n",
      "9 no es un numero primo\n",
      "10 no es un numero primo\n",
      "11 es un numero primo\n",
      "12 no es un numero primo\n",
      "13 es un numero primo\n",
      "14 no es un numero primo\n",
      "15 no es un numero primo\n",
      "16 no es un numero primo\n",
      "17 es un numero primo\n",
      "18 no es un numero primo\n",
      "19 es un numero primo\n",
      "20 no es un numero primo\n",
      "21 no es un numero primo\n",
      "22 no es un numero primo\n",
      "23 es un numero primo\n",
      "24 no es un numero primo\n",
      "25 no es un numero primo\n",
      "26 no es un numero primo\n",
      "27 no es un numero primo\n",
      "28 no es un numero primo\n",
      "29 es un numero primo\n",
      "30 no es un numero primo\n"
     ]
    }
   ],
   "source": [
    "for i in range(0, 31):\n",
    "    primo = True\n",
    "    for m in range(2, i):\n",
    "        if i % m == 0:\n",
    "            primo = False\n",
    "            break\n",
    "\n",
    "    if primo and i >= 1:\n",
    "        print(i, 'es un numero primo')\n",
    "    else:\n",
    "        print(i, 'no es un numero primo')"
   ]
  },
  {
   "attachments": {},
   "cell_type": "markdown",
   "metadata": {},
   "source": [
    "10) ¿Se puede mejorar el proceso del punto 9? Utilizar las sentencias break y/ó continue para tal fin"
   ]
  },
  {
   "cell_type": "code",
   "execution_count": null,
   "metadata": {},
   "outputs": [],
   "source": []
  },
  {
   "attachments": {},
   "cell_type": "markdown",
   "metadata": {},
   "source": [
    "11) En los puntos 9 y 10, se diseño un código que encuentra números primos y además se lo optimizó. ¿Es posible saber en qué medida se optimizó?"
   ]
  },
  {
   "cell_type": "code",
   "execution_count": null,
   "metadata": {},
   "outputs": [],
   "source": []
  },
  {
   "attachments": {},
   "cell_type": "markdown",
   "metadata": {},
   "source": [
    "12) Aplicando continue, armar un ciclo while que solo imprima los valores divisibles por 12, dentro del rango de números de 100 a 300"
   ]
  },
  {
   "cell_type": "code",
   "execution_count": 14,
   "metadata": {},
   "outputs": [
    {
     "name": "stdout",
     "output_type": "stream",
     "text": [
      "101 no es divisible por 12\n",
      "102 no es divisible por 12\n",
      "103 no es divisible por 12\n",
      "104 no es divisible por 12\n",
      "105 no es divisible por 12\n",
      "106 no es divisible por 12\n",
      "107 no es divisible por 12\n",
      "108 es divisible por 12\n",
      "109 no es divisible por 12\n",
      "110 no es divisible por 12\n",
      "111 no es divisible por 12\n",
      "112 no es divisible por 12\n",
      "113 no es divisible por 12\n",
      "114 no es divisible por 12\n",
      "115 no es divisible por 12\n",
      "116 no es divisible por 12\n",
      "117 no es divisible por 12\n",
      "118 no es divisible por 12\n",
      "119 no es divisible por 12\n",
      "120 es divisible por 12\n",
      "121 no es divisible por 12\n",
      "122 no es divisible por 12\n",
      "123 no es divisible por 12\n",
      "124 no es divisible por 12\n",
      "125 no es divisible por 12\n",
      "126 no es divisible por 12\n",
      "127 no es divisible por 12\n",
      "128 no es divisible por 12\n",
      "129 no es divisible por 12\n",
      "130 no es divisible por 12\n",
      "131 no es divisible por 12\n",
      "132 es divisible por 12\n",
      "133 no es divisible por 12\n",
      "134 no es divisible por 12\n",
      "135 no es divisible por 12\n",
      "136 no es divisible por 12\n",
      "137 no es divisible por 12\n",
      "138 no es divisible por 12\n",
      "139 no es divisible por 12\n",
      "140 no es divisible por 12\n",
      "141 no es divisible por 12\n",
      "142 no es divisible por 12\n",
      "143 no es divisible por 12\n",
      "144 es divisible por 12\n",
      "145 no es divisible por 12\n",
      "146 no es divisible por 12\n",
      "147 no es divisible por 12\n",
      "148 no es divisible por 12\n",
      "149 no es divisible por 12\n",
      "150 no es divisible por 12\n",
      "151 no es divisible por 12\n",
      "152 no es divisible por 12\n",
      "153 no es divisible por 12\n",
      "154 no es divisible por 12\n",
      "155 no es divisible por 12\n",
      "156 es divisible por 12\n",
      "157 no es divisible por 12\n",
      "158 no es divisible por 12\n",
      "159 no es divisible por 12\n",
      "160 no es divisible por 12\n",
      "161 no es divisible por 12\n",
      "162 no es divisible por 12\n",
      "163 no es divisible por 12\n",
      "164 no es divisible por 12\n",
      "165 no es divisible por 12\n",
      "166 no es divisible por 12\n",
      "167 no es divisible por 12\n",
      "168 es divisible por 12\n",
      "169 no es divisible por 12\n",
      "170 no es divisible por 12\n",
      "171 no es divisible por 12\n",
      "172 no es divisible por 12\n",
      "173 no es divisible por 12\n",
      "174 no es divisible por 12\n",
      "175 no es divisible por 12\n",
      "176 no es divisible por 12\n",
      "177 no es divisible por 12\n",
      "178 no es divisible por 12\n",
      "179 no es divisible por 12\n",
      "180 es divisible por 12\n",
      "181 no es divisible por 12\n",
      "182 no es divisible por 12\n",
      "183 no es divisible por 12\n",
      "184 no es divisible por 12\n",
      "185 no es divisible por 12\n",
      "186 no es divisible por 12\n",
      "187 no es divisible por 12\n",
      "188 no es divisible por 12\n",
      "189 no es divisible por 12\n",
      "190 no es divisible por 12\n",
      "191 no es divisible por 12\n",
      "192 es divisible por 12\n",
      "193 no es divisible por 12\n",
      "194 no es divisible por 12\n",
      "195 no es divisible por 12\n",
      "196 no es divisible por 12\n",
      "197 no es divisible por 12\n",
      "198 no es divisible por 12\n",
      "199 no es divisible por 12\n",
      "200 no es divisible por 12\n",
      "201 no es divisible por 12\n",
      "202 no es divisible por 12\n",
      "203 no es divisible por 12\n",
      "204 es divisible por 12\n",
      "205 no es divisible por 12\n",
      "206 no es divisible por 12\n",
      "207 no es divisible por 12\n",
      "208 no es divisible por 12\n",
      "209 no es divisible por 12\n",
      "210 no es divisible por 12\n",
      "211 no es divisible por 12\n",
      "212 no es divisible por 12\n",
      "213 no es divisible por 12\n",
      "214 no es divisible por 12\n",
      "215 no es divisible por 12\n",
      "216 es divisible por 12\n",
      "217 no es divisible por 12\n",
      "218 no es divisible por 12\n",
      "219 no es divisible por 12\n",
      "220 no es divisible por 12\n",
      "221 no es divisible por 12\n",
      "222 no es divisible por 12\n",
      "223 no es divisible por 12\n",
      "224 no es divisible por 12\n",
      "225 no es divisible por 12\n",
      "226 no es divisible por 12\n",
      "227 no es divisible por 12\n",
      "228 es divisible por 12\n",
      "229 no es divisible por 12\n",
      "230 no es divisible por 12\n",
      "231 no es divisible por 12\n",
      "232 no es divisible por 12\n",
      "233 no es divisible por 12\n",
      "234 no es divisible por 12\n",
      "235 no es divisible por 12\n",
      "236 no es divisible por 12\n",
      "237 no es divisible por 12\n",
      "238 no es divisible por 12\n",
      "239 no es divisible por 12\n",
      "240 es divisible por 12\n",
      "241 no es divisible por 12\n",
      "242 no es divisible por 12\n",
      "243 no es divisible por 12\n",
      "244 no es divisible por 12\n",
      "245 no es divisible por 12\n",
      "246 no es divisible por 12\n",
      "247 no es divisible por 12\n",
      "248 no es divisible por 12\n",
      "249 no es divisible por 12\n",
      "250 no es divisible por 12\n",
      "251 no es divisible por 12\n",
      "252 es divisible por 12\n",
      "253 no es divisible por 12\n",
      "254 no es divisible por 12\n",
      "255 no es divisible por 12\n",
      "256 no es divisible por 12\n",
      "257 no es divisible por 12\n",
      "258 no es divisible por 12\n",
      "259 no es divisible por 12\n",
      "260 no es divisible por 12\n",
      "261 no es divisible por 12\n",
      "262 no es divisible por 12\n",
      "263 no es divisible por 12\n",
      "264 es divisible por 12\n",
      "265 no es divisible por 12\n",
      "266 no es divisible por 12\n",
      "267 no es divisible por 12\n",
      "268 no es divisible por 12\n",
      "269 no es divisible por 12\n",
      "270 no es divisible por 12\n",
      "271 no es divisible por 12\n",
      "272 no es divisible por 12\n",
      "273 no es divisible por 12\n",
      "274 no es divisible por 12\n",
      "275 no es divisible por 12\n",
      "276 es divisible por 12\n",
      "277 no es divisible por 12\n",
      "278 no es divisible por 12\n",
      "279 no es divisible por 12\n",
      "280 no es divisible por 12\n",
      "281 no es divisible por 12\n",
      "282 no es divisible por 12\n",
      "283 no es divisible por 12\n",
      "284 no es divisible por 12\n",
      "285 no es divisible por 12\n",
      "286 no es divisible por 12\n",
      "287 no es divisible por 12\n",
      "288 es divisible por 12\n",
      "289 no es divisible por 12\n",
      "290 no es divisible por 12\n",
      "291 no es divisible por 12\n",
      "292 no es divisible por 12\n",
      "293 no es divisible por 12\n",
      "294 no es divisible por 12\n",
      "295 no es divisible por 12\n",
      "296 no es divisible por 12\n",
      "297 no es divisible por 12\n",
      "298 no es divisible por 12\n",
      "299 no es divisible por 12\n"
     ]
    }
   ],
   "source": [
    "i = 0\n",
    "while i < 500:\n",
    "    i += 1\n",
    "    if 100 < i < 300:\n",
    "        resto = i % 12\n",
    "        if resto == 0:\n",
    "            print(i, \"es divisible por 12\")\n",
    "        else:\n",
    "            print(i, \"no es divisible por 12\")\n",
    "            continue\n",
    "   "
   ]
  },
  {
   "attachments": {},
   "cell_type": "markdown",
   "metadata": {},
   "source": [
    "13) Utilizar la función **input()** que permite hacer ingresos por teclado, para encontrar números primos y dar la opción al usario de buscar el siguiente"
   ]
  },
  {
   "cell_type": "code",
   "execution_count": 6,
   "metadata": {},
   "outputs": [
    {
     "name": "stdout",
     "output_type": "stream",
     "text": [
      "usted ingreso: 5\n",
      "2 es un numero primo\n",
      "3 es un numero primo\n",
      "4 no es un numero primo\n",
      "Desea continuar? s/n\n",
      "usted ingreso: 10\n",
      "2 es un numero primo\n",
      "3 es un numero primo\n",
      "4 no es un numero primo\n",
      "5 es un numero primo\n",
      "6 no es un numero primo\n",
      "7 es un numero primo\n",
      "8 no es un numero primo\n",
      "9 no es un numero primo\n",
      "Desea continuar? s/n\n"
     ]
    }
   ],
   "source": [
    "while True:\n",
    "    numero = input(\"ingrese un numero entero:\")\n",
    "    print(\"usted ingreso:\",numero)\n",
    "    numero = int(numero)\n",
    "    for i in range(2, numero):\n",
    "        primo = True\n",
    "        for m in range(2, i):\n",
    "            if i % m == 0:\n",
    "                primo = False\n",
    "                break\n",
    "        if primo and i >= 1:\n",
    "            print(i, 'es un numero primo')\n",
    "        else:\n",
    "            print(i, 'no es un numero primo')\n",
    "            \n",
    "\n",
    "    print(\"Desea continuar? s/n\")\n",
    "    continuar = input()\n",
    "    if continuar != \"s\":\n",
    "        break\n",
    "\n",
    "\n"
   ]
  },
  {
   "attachments": {},
   "cell_type": "markdown",
   "metadata": {},
   "source": [
    "14) Crear un ciclo while que encuentre dentro del rango de 100 a 300 el primer número divisible por 3 y además múltiplo de 6"
   ]
  },
  {
   "cell_type": "code",
   "execution_count": 13,
   "metadata": {},
   "outputs": [
    {
     "name": "stdout",
     "output_type": "stream",
     "text": [
      "100 no es divisible por 3\n",
      "101 no es divisible por 3\n",
      "102 es divisible por 3\n",
      "102 ademas es multiplo de 6\n",
      "El primer numero entre 100-300 que sea divisible por 3 y multiplo de 6 es: 102\n"
     ]
    }
   ],
   "source": [
    "while True:\n",
    "    continuar = True\n",
    "    for i in range(100,301):\n",
    "        resto = i % 3\n",
    "        if resto == 0:\n",
    "            print(i,\"es divisible por 3\")\n",
    "            resto_2= i % 6\n",
    "            if resto_2 == 0:\n",
    "                print(i,\"ademas es multiplo de 6\")\n",
    "                print(\"El primer numero entre 100-300 que sea divisible por 3 y multiplo de 6 es:\",i)\n",
    "                continuar = False\n",
    "                break\n",
    "                \n",
    "        else:\n",
    "            print(i,\"no es divisible por 3\")\n",
    "    i += 1\n",
    "    if continuar != True:\n",
    "     break\n",
    "\n"
   ]
  }
 ],
 "metadata": {
  "interpreter": {
   "hash": "c85384e4cb51c8b72350f3a8712cc8351fdc3955e32a27f9b60c6242ab125f01"
  },
  "kernelspec": {
   "display_name": "Python 3 (ipykernel)",
   "language": "python",
   "name": "python3"
  },
  "language_info": {
   "codemirror_mode": {
    "name": "ipython",
    "version": 3
   },
   "file_extension": ".py",
   "mimetype": "text/x-python",
   "name": "python",
   "nbconvert_exporter": "python",
   "pygments_lexer": "ipython3",
   "version": "3.7.5"
  }
 },
 "nbformat": 4,
 "nbformat_minor": 4
}
