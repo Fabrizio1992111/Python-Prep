{
 "cells": [
  {
   "attachments": {},
   "cell_type": "markdown",
   "metadata": {},
   "source": [
    "## Flujos de Control"
   ]
  },
  {
   "attachments": {},
   "cell_type": "markdown",
   "metadata": {},
   "source": [
    "1) Crear una variable que contenga un elemento del conjunto de números enteros y luego imprimir por pantalla si es mayor o menor a cero"
   ]
  },
  {
   "cell_type": "code",
   "execution_count": null,
   "metadata": {},
   "outputs": [],
   "source": [
    "a = 1\n",
    "if a > 0 :\n",
    "    print(\"a es mayor que 0\")\n",
    "else: \n",
    "    print(\"a es menor que 0\")"
   ]
  },
  {
   "attachments": {},
   "cell_type": "markdown",
   "metadata": {},
   "source": [
    "2) Crear dos variables y un condicional que informe si son del mismo tipo de dato"
   ]
  },
  {
   "cell_type": "code",
   "execution_count": null,
   "metadata": {},
   "outputs": [],
   "source": [
    "p = 8\n",
    "o = '8'\n",
    "if type(p) == type(o):\n",
    "    print(\"p y o son del mismo tipo de dato\")\n",
    "else:\n",
    "    print(\"p y o son distintos tipos de datos\")\n"
   ]
  },
  {
   "attachments": {},
   "cell_type": "markdown",
   "metadata": {},
   "source": [
    "3) Para los valores enteros del 1 al 20, imprimir por pantalla si es par o impar"
   ]
  },
  {
   "cell_type": "code",
   "execution_count": null,
   "metadata": {},
   "outputs": [],
   "source": [
    "k = [1,20]\n",
    "for i in range(1,20):\n",
    "    if i % 2 == 0:\n",
    "        print(\"el numero\", i ,\"es par\") \n",
    "    else:\n",
    "        print(\"el numero\",i,\"es impar\")"
   ]
  },
  {
   "attachments": {},
   "cell_type": "markdown",
   "metadata": {},
   "source": [
    "4) En un ciclo for mostrar para los valores entre 0 y 5 el resultado de elevarlo a la potencia igual a 3"
   ]
  },
  {
   "cell_type": "code",
   "execution_count": null,
   "metadata": {},
   "outputs": [],
   "source": [
    "for i in range(0,6):\n",
    "    j = i ** 3 \n",
    "    print(\"la potencia de\",i,\"a la 3 es\", j)"
   ]
  },
  {
   "attachments": {},
   "cell_type": "markdown",
   "metadata": {},
   "source": [
    "5) Crear una variable que contenga un número entero y realizar un ciclo for la misma cantidad de ciclos"
   ]
  },
  {
   "cell_type": "code",
   "execution_count": null,
   "metadata": {},
   "outputs": [],
   "source": [
    "l = 8\n",
    "for i in range(0,l):\n",
    "    pass\n",
    "    print(\"este es el ciclo\",i)"
   ]
  },
  {
   "attachments": {},
   "cell_type": "markdown",
   "metadata": {},
   "source": [
    "6) Utilizar un ciclo while para realizar el factorial de un número guardado en una variable, sólo si la variable contiene un número entero mayor a 0"
   ]
  },
  {
   "cell_type": "code",
   "execution_count": 1,
   "metadata": {},
   "outputs": [
    {
     "name": "stdout",
     "output_type": "stream",
     "text": [
      "ingrese un numero\n"
     ]
    }
   ],
   "source": [
    "ruta = r'C:\\Users\\Fabrizio\\Desktop\\Python-Prep\\tasks'\n",
    "print(\"ingrese un numero\")\n",
    "o=input()\n",
    "o=int(o)\n",
    "if type(o) == int:\n",
    "    if (o > 0):\n",
    "        fact = o\n",
    "        while(o > 2):\n",
    "          o = o - 1\n",
    "          fact = fact * o \n",
    "          print(\"el factorial es\", fact)\n",
    "    else:\n",
    "        print(\"la variable\", o, \"es negativo\")\n",
    "else:\n",
    "    print(\"la variable\",o,\"no es un entero\")\n",
    "   \n",
    "\n",
    "\n"
   ]
  },
  {
   "attachments": {},
   "cell_type": "markdown",
   "metadata": {},
   "source": [
    "7) Crear un ciclo for dentro de un ciclo while"
   ]
  },
  {
   "cell_type": "code",
   "execution_count": 7,
   "metadata": {},
   "outputs": [
    {
     "name": "stdout",
     "output_type": "stream",
     "text": [
      "la cuenta regrasiva es 4\n",
      "la cuenta regrasiva es 3\n",
      "la cuenta regrasiva es 2\n",
      "la cuenta regrasiva es 1\n",
      "la cuenta regrasiva es 0\n"
     ]
    }
   ],
   "source": [
    "p = 5 \n",
    "while(p > 0):\n",
    "    for i in range(0,5):\n",
    "        p -= 1\n",
    "        print('la cuenta regrasiva es', p)\n"
   ]
  },
  {
   "attachments": {},
   "cell_type": "markdown",
   "metadata": {},
   "source": [
    "8) Crear un ciclo while dentro de un ciclo for"
   ]
  },
  {
   "cell_type": "code",
   "execution_count": 13,
   "metadata": {},
   "outputs": [
    {
     "name": "stdout",
     "output_type": "stream",
     "text": [
      "el numero es: 8\n",
      "el numero es: 9\n",
      "el numero es: 10\n",
      "el numero es: 10\n"
     ]
    }
   ],
   "source": [
    "for i in range(5,11,2):\n",
    "    while i > 5:\n",
    "        i += 1\n",
    "        if i == 11:\n",
    "            break\n",
    "        print(\"el numero es:\",i)"
   ]
  },
  {
   "attachments": {},
   "cell_type": "markdown",
   "metadata": {},
   "source": [
    "9) Imprimir los números primos existentes entre 0 y 30"
   ]
  },
  {
   "cell_type": "code",
   "execution_count": 24,
   "metadata": {},
   "outputs": [
    {
     "name": "stdout",
     "output_type": "stream",
     "text": [
      "1 no es un numero primo\n",
      "2 no es un numero primo\n",
      "3 no es un numero primo\n",
      "4 no es un numero primo\n",
      "5 no es un numero primo\n",
      "6 no es un numero primo\n",
      "7 no es un numero primo\n",
      "8 no es un numero primo\n",
      "9 no es un numero primo\n",
      "10 no es un numero primo\n",
      "11 no es un numero primo\n",
      "12 no es un numero primo\n",
      "13 no es un numero primo\n",
      "14 no es un numero primo\n",
      "15 no es un numero primo\n",
      "16 no es un numero primo\n",
      "17 no es un numero primo\n",
      "18 no es un numero primo\n",
      "19 no es un numero primo\n",
      "20 no es un numero primo\n",
      "21 no es un numero primo\n",
      "22 no es un numero primo\n",
      "23 no es un numero primo\n",
      "24 no es un numero primo\n",
      "25 no es un numero primo\n",
      "26 no es un numero primo\n",
      "27 no es un numero primo\n",
      "28 no es un numero primo\n",
      "29 no es un numero primo\n",
      "30 no es un numero primo\n"
     ]
    }
   ],
   "source": [
    "for i in range (1,31):\n",
    "    m = i\n",
    "    primo = True\n",
    "    while m > 1:\n",
    "        m -=1\n",
    "        resto = i % m\n",
    "        if resto == 0:\n",
    "            primo = False\n",
    "            break\n",
    "    if primo and i > 1:\n",
    "        print(i,'es un numero primo ')\n",
    "    else:\n",
    "        print(i, 'no es un numero primo') "
   ]
  },
  {
   "attachments": {},
   "cell_type": "markdown",
   "metadata": {},
   "source": [
    "10) ¿Se puede mejorar el proceso del punto 9? Utilizar las sentencias break y/ó continue para tal fin"
   ]
  },
  {
   "cell_type": "code",
   "execution_count": null,
   "metadata": {},
   "outputs": [],
   "source": []
  },
  {
   "attachments": {},
   "cell_type": "markdown",
   "metadata": {},
   "source": [
    "11) En los puntos 9 y 10, se diseño un código que encuentra números primos y además se lo optimizó. ¿Es posible saber en qué medida se optimizó?"
   ]
  },
  {
   "cell_type": "code",
   "execution_count": null,
   "metadata": {},
   "outputs": [],
   "source": []
  },
  {
   "attachments": {},
   "cell_type": "markdown",
   "metadata": {},
   "source": [
    "12) Aplicando continue, armar un ciclo while que solo imprima los valores divisibles por 12, dentro del rango de números de 100 a 300"
   ]
  },
  {
   "cell_type": "code",
   "execution_count": null,
   "metadata": {},
   "outputs": [],
   "source": []
  },
  {
   "attachments": {},
   "cell_type": "markdown",
   "metadata": {},
   "source": [
    "13) Utilizar la función **input()** que permite hacer ingresos por teclado, para encontrar números primos y dar la opción al usario de buscar el siguiente"
   ]
  },
  {
   "cell_type": "code",
   "execution_count": null,
   "metadata": {},
   "outputs": [],
   "source": []
  },
  {
   "attachments": {},
   "cell_type": "markdown",
   "metadata": {},
   "source": [
    "14) Crear un ciclo while que encuentre dentro del rango de 100 a 300 el primer número divisible por 3 y además múltiplo de 6"
   ]
  },
  {
   "cell_type": "code",
   "execution_count": null,
   "metadata": {},
   "outputs": [],
   "source": []
  }
 ],
 "metadata": {
  "interpreter": {
   "hash": "c85384e4cb51c8b72350f3a8712cc8351fdc3955e32a27f9b60c6242ab125f01"
  },
  "kernelspec": {
   "display_name": "Python 3 (ipykernel)",
   "language": "python",
   "name": "python3"
  },
  "language_info": {
   "codemirror_mode": {
    "name": "ipython",
    "version": 3
   },
   "file_extension": ".py",
   "mimetype": "text/x-python",
   "name": "python",
   "nbconvert_exporter": "python",
   "pygments_lexer": "ipython3",
   "version": "3.7.5"
  }
 },
 "nbformat": 4,
 "nbformat_minor": 4
}
